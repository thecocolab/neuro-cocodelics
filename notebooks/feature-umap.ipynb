{
 "cells": [
  {
   "cell_type": "code",
   "execution_count": null,
   "id": "577563e1",
   "metadata": {},
   "outputs": [],
   "source": [
    "%load_ext autoreload\n",
    "%autoreload 2"
   ]
  },
  {
   "cell_type": "code",
   "execution_count": null,
   "id": "c84bafa7",
   "metadata": {},
   "outputs": [],
   "source": [
    "import warnings\n",
    "from glob import glob\n",
    "\n",
    "import mne\n",
    "import numpy as np\n",
    "import pandas as pd\n",
    "from matplotlib import pyplot as plt\n",
    "from sklearn.decomposition import PCA\n",
    "from sklearn.manifold import TSNE\n",
    "from umap import UMAP\n",
    "\n",
    "from cocodelics.utils import COLOR_MAP, get_data, load_data\n",
    "\n",
    "warnings.filterwarnings(\n",
    "    \"ignore\",\n",
    "    message=\"'force_all_finite' was renamed to 'ensure_all_finite' in 1.6 and will be removed in 1.8.\",\n",
    "    category=FutureWarning,\n",
    "    module=\"sklearn.utils.deprecation\",\n",
    ")"
   ]
  },
  {
   "cell_type": "code",
   "execution_count": null,
   "id": "6985af5d",
   "metadata": {},
   "outputs": [],
   "source": [
    "DATA_DIR = \"../local_data/v1\"\n",
    "\n",
    "IGNORE_FEATURES = [\n",
    "    # \"lsd-Closed1\",\n",
    "    # \"lsd-Closed1-pcb\",\n",
    "    \"lsd-Closed2\",\n",
    "    \"lsd-Closed2-pcb\",\n",
    "    \"lsd-Music\",\n",
    "    \"lsd-Music-pcb\",\n",
    "    # \"lsd-Open1\",\n",
    "    # \"lsd-Open1-pcb\",\n",
    "    \"lsd-Open2\",\n",
    "    \"lsd-Open2-pcb\",\n",
    "    \"lsd-Video\",\n",
    "    \"lsd-Video-pcb\",\n",
    "    # \"ketamine\",\n",
    "    # \"ketamine-pcb\",\n",
    "    # \"psilocybin\",\n",
    "    # \"psilocybin-pcb\",\n",
    "    # \"perampanel\",\n",
    "    # \"perampanel-pcb\",\n",
    "    # \"tiagabine\",\n",
    "    # \"tiagabine-pcb\",\n",
    "    \"lsd-avg\",\n",
    "    \"lsd-avg-pcb\",\n",
    "]"
   ]
  },
  {
   "cell_type": "code",
   "execution_count": null,
   "id": "32f8265d",
   "metadata": {},
   "outputs": [],
   "source": [
    "data, ft_names, ch_names = load_data(DATA_DIR, IGNORE_FEATURES)\n",
    "print(\"Loaded datasets:\", \", \".join(data.keys()))\n",
    "print(\"Feature names:\", \", \".join(ft_names))\n",
    "print(\"Channel names:\", \", \".join(ch_names))"
   ]
  },
  {
   "cell_type": "code",
   "execution_count": null,
   "id": "842dcf59",
   "metadata": {},
   "outputs": [],
   "source": [
    "# def get_data(df, ft_name, avg_subjs=False, avg_chs=False):\n",
    "#     col_names = [f\"feature-{ft_name}.spaces-{ch}\" for ch in ch_names]\n",
    "#     data = df[col_names].values\n",
    "#     if avg_subjs:\n",
    "#         data = data.mean(axis=0, keepdims=True)\n",
    "#     if avg_chs:\n",
    "#         data = data.mean(axis=1, keepdims=True)\n",
    "#     return data\n",
    "\n",
    "\n",
    "data_arrs = {}\n",
    "for name, df in data.items():\n",
    "    data_arrs[name] = np.concatenate([get_data(df, ft_name, ch_names) for ft_name in ft_names], axis=-1)"
   ]
  },
  {
   "cell_type": "code",
   "execution_count": null,
   "id": "9b905684",
   "metadata": {},
   "outputs": [],
   "source": [
    "pca = PCA(n_components=10)\n",
    "comps = pca.fit_transform(np.concatenate(list(data_arrs.values()), axis=0))\n",
    "comps = {name: comps[i * len(df) : (i + 1) * len(df), :] for i, (name, df) in enumerate(data.items())}\n",
    "plt.title(\"PCA explained variance\")\n",
    "plt.plot(np.cumsum(pca.explained_variance_ratio_))\n",
    "plt.xlabel(\"Number of components\")\n",
    "plt.show()\n",
    "\n",
    "# dr = UMAP(n_components=2)\n",
    "# dr = PCA(n_components=2)\n",
    "dr = TSNE(n_components=2)\n",
    "\n",
    "comps = dr.fit_transform(np.concatenate(list(comps.values()), axis=0))\n",
    "comps = {name: comps[i * len(df) : (i + 1) * len(df), :] for i, (name, df) in enumerate(data.items())}"
   ]
  },
  {
   "cell_type": "code",
   "execution_count": null,
   "id": "70fffd7e",
   "metadata": {},
   "outputs": [],
   "source": [
    "ax = plt.figure(figsize=(13, 7)).add_subplot(111, projection=\"3d\" if dr.n_components == 3 else None)\n",
    "for name, comp in comps.items():\n",
    "    ax.scatter(*comp.T, label=name, color=COLOR_MAP[name.replace(\"-pcb\", \"\")], marker=\"o\" if \"-pcb\" not in name else \"x\")\n",
    "plt.legend()\n",
    "plt.show()"
   ]
  }
 ],
 "metadata": {
  "kernelspec": {
   "display_name": "coco",
   "language": "python",
   "name": "python3"
  },
  "language_info": {
   "codemirror_mode": {
    "name": "ipython",
    "version": 3
   },
   "file_extension": ".py",
   "mimetype": "text/x-python",
   "name": "python",
   "nbconvert_exporter": "python",
   "pygments_lexer": "ipython3",
   "version": "3.12.11"
  }
 },
 "nbformat": 4,
 "nbformat_minor": 5
}
