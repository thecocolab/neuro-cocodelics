{
 "cells": [
  {
   "cell_type": "code",
   "execution_count": null,
   "id": "f98e73c4",
   "metadata": {},
   "outputs": [],
   "source": [
    "%load_ext autoreload\n",
    "%autoreload 2"
   ]
  },
  {
   "cell_type": "code",
   "execution_count": null,
   "id": "a6c16720",
   "metadata": {},
   "outputs": [],
   "source": [
    "from cocodelics.utils import (\n",
    "    load_data,\n",
    "    plot_spider_by_feature,\n",
    "    plot_topomaps_by_feature,\n",
    "    ttest_across_subjects,\n",
    ")\n",
    "\n",
    "DATA_DIR = \"../local_data/v1\"\n",
    "ACT_MINUS_PCB = True\n",
    "NORMALIZE = False\n",
    "\n",
    "IGNORE_FEATURES = [\n",
    "    # \"lsd-Closed1\",\n",
    "    # \"lsd-Closed1-pcb\",\n",
    "    \"lsd-Closed2\",\n",
    "    \"lsd-Closed2-pcb\",\n",
    "    \"lsd-Music\",\n",
    "    \"lsd-Music-pcb\",\n",
    "    # \"lsd-Open1\",\n",
    "    # \"lsd-Open1-pcb\",\n",
    "    \"lsd-Open2\",\n",
    "    \"lsd-Open2-pcb\",\n",
    "    \"lsd-Video\",\n",
    "    \"lsd-Video-pcb\",\n",
    "    # \"ketamine\",\n",
    "    # \"ketamine-pcb\",\n",
    "    # \"psilocybin\",\n",
    "    # \"psilocybin-pcb\",\n",
    "    # \"perampanel\",\n",
    "    # \"perampanel-pcb\",\n",
    "    # \"tiagabine\",\n",
    "    # \"tiagabine-pcb\",\n",
    "    \"lsd-avg\",\n",
    "    \"lsd-avg-pcb\",\n",
    "]\n",
    "\n",
    "\n",
    "data, ft_names, ch_names, col_names = load_data(DATA_DIR, ignore_features=IGNORE_FEATURES)\n",
    "tval, pval = ttest_across_subjects(data, ft_names, ch_names)"
   ]
  },
  {
   "cell_type": "code",
   "execution_count": null,
   "id": "61497e11",
   "metadata": {},
   "outputs": [],
   "source": [
    "plot_topomaps_by_feature(tval, pval, ft_names, ch_names, figsize=(15, 30), p_thresh=0.01)"
   ]
  },
  {
   "cell_type": "code",
   "execution_count": null,
   "id": "6d0b6673",
   "metadata": {},
   "outputs": [],
   "source": [
    "plot_spider_by_feature(tval, ft_names, ch_names)"
   ]
  },
  {
   "cell_type": "code",
   "execution_count": null,
   "id": "b17573df",
   "metadata": {},
   "outputs": [],
   "source": [
    "from cocodelics.utils import plot_violin_by_feature\n",
    "\n",
    "plot_violin_by_feature(tval, ft_names, ch_names, figsize=(15, 7))"
   ]
  }
 ],
 "metadata": {
  "kernelspec": {
   "display_name": "coco",
   "language": "python",
   "name": "python3"
  },
  "language_info": {
   "codemirror_mode": {
    "name": "ipython",
    "version": 3
   },
   "file_extension": ".py",
   "mimetype": "text/x-python",
   "name": "python",
   "nbconvert_exporter": "python",
   "pygments_lexer": "ipython3",
   "version": "3.12.11"
  }
 },
 "nbformat": 4,
 "nbformat_minor": 5
}
